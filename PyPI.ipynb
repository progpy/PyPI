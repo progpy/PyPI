{
 "cells": [
  {
   "cell_type": "markdown",
   "metadata": {
    "slideshow": {
     "slide_type": "slide"
    }
   },
   "source": [
    "## Как поделиться кодом"
   ]
  },
  {
   "cell_type": "markdown",
   "metadata": {
    "slideshow": {
     "slide_type": "slide"
    }
   },
   "source": [
    "## Терминология\n",
    "\n",
    "Module\n",
    "\n",
    "Package (Import Package)\n",
    "\n",
    "Distribution Package\n"
   ]
  },
  {
   "cell_type": "markdown",
   "metadata": {
    "slideshow": {
     "slide_type": "slide"
    }
   },
   "source": [
    "## Source Distribution\n",
    "sdist\n",
    "\n",
    "## Build Distribution\n",
    "wheel\n",
    "\n",
    "### Wheel\n",
    "\n",
    "Universal\n",
    "\n",
    "Pure Python\n",
    "\n",
    "Platform"
   ]
  },
  {
   "cell_type": "markdown",
   "metadata": {
    "slideshow": {
     "slide_type": "slide"
    }
   },
   "source": [
    "## PyPI"
   ]
  },
  {
   "cell_type": "markdown",
   "metadata": {
    "slideshow": {
     "slide_type": "slide"
    }
   },
   "source": [
    "## Structure\n",
    "\n",
    "```\n",
    "python_package_example\n",
    "|-- data\n",
    "|   |-- data_file\n",
    "|-- python_package_example\n",
    "|   |-- __init__.py\n",
    "|   `-- python_package_example.py\n",
    "|-- tests\n",
    "|   |-- __init__.py\n",
    "|   `-- test_python_package_example.py\n",
    "|-- LICENSE\n",
    "|-- MANIFEST.in\n",
    "|-- README.rst / DESCRIPTION.rst\n",
    "|-- setup.cfg\n",
    "|-- setup.py\n",
    "```"
   ]
  },
  {
   "cell_type": "markdown",
   "metadata": {},
   "source": [
    "$HOME/.pypirc\n",
    "\n",
    "```\n",
    "[distutils]\n",
    "index-servers=testpypi\n",
    "\n",
    "[testpypi]\n",
    "repository=https://test.pypi.org/legacy/\n",
    "username=<username>\n",
    "password=<password>\n",
    "```"
   ]
  },
  {
   "cell_type": "markdown",
   "metadata": {
    "slideshow": {
     "slide_type": "slide"
    }
   },
   "source": [
    "```\n",
    "pip install wheel\n",
    "pip install twine\n",
    "\n",
    "./setup.py sdist\n",
    "./setup.py bdist_wheel\n",
    "\n",
    "twine upload -r testpypi dist/*\n",
    "```\n",
    "\n",
    "https://testpypi.python.org/pypi/python-package-example/0.1.0"
   ]
  },
  {
   "cell_type": "markdown",
   "metadata": {
    "slideshow": {
     "slide_type": "slide"
    }
   },
   "source": [
    "## virtualenv\n",
    "\n",
    "```\n",
    "virtualenv -p python3 envname\n",
    "source envname/bin/activate\n",
    "\n",
    "pip3 install ...\n",
    "... some work\n",
    "\n",
    "deactivate\n",
    "```"
   ]
  },
  {
   "cell_type": "markdown",
   "metadata": {
    "slideshow": {
     "slide_type": "slide"
    }
   },
   "source": [
    "## requirements.txt\n",
    "https://pip.pypa.io/en/stable/user_guide/#requirements-files\n"
   ]
  },
  {
   "cell_type": "markdown",
   "metadata": {
    "slideshow": {
     "slide_type": "slide"
    }
   },
   "source": [
    "## Ссылки\n",
    "\n",
    "https://daveops.com/talks/pycon-2017-share-your-code-python-packaging-without-complication/\n",
    "\n",
    "https://cookiecutter.readthedocs.io/en/latest/readme.html"
   ]
  }
 ],
 "metadata": {
  "celltoolbar": "Slideshow",
  "kernelspec": {
   "display_name": "Python 3",
   "language": "python",
   "name": "python3"
  },
  "language_info": {
   "codemirror_mode": {
    "name": "ipython",
    "version": 3
   },
   "file_extension": ".py",
   "mimetype": "text/x-python",
   "name": "python",
   "nbconvert_exporter": "python",
   "pygments_lexer": "ipython3",
   "version": "3.6.0"
  }
 },
 "nbformat": 4,
 "nbformat_minor": 2
}
